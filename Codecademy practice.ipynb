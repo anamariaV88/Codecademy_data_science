{
 "cells": [
  {
   "cell_type": "markdown",
   "id": "c3bf4a91",
   "metadata": {},
   "source": [
    "# Exercises from dictionary - Data Science course Codecademy"
   ]
  },
  {
   "cell_type": "markdown",
   "id": "074d5ef4",
   "metadata": {},
   "source": [
    "## Available information:"
   ]
  },
  {
   "cell_type": "code",
   "execution_count": 5,
   "id": "defcef74",
   "metadata": {},
   "outputs": [],
   "source": [
    "names = ['Cuba I', 'San Felipe II Okeechobee', 'Bahamas', 'Cuba II', 'CubaBrownsville', 'Tampico', 'Labor Day', 'New England', 'Carol', 'Janet', 'Carla', 'Hattie', 'Beulah', 'Camille', 'Edith', 'Anita', 'David', 'Allen', 'Gilbert', 'Hugo', 'Andrew', 'Mitch', 'Isabel', 'Ivan', 'Emily', 'Katrina', 'Rita', 'Wilma', 'Dean', 'Felix', 'Matthew', 'Irma', 'Maria', 'Michael']\n",
    "deaths = [90,4000,16,3103,179,184,408,682,5,1023,43,319,688,259,37,11,2068,269,318,107,65,19325,51,124,17,1836,125,87,45,133,603,138,3057,74]\n",
    "months = ['October', 'September', 'September', 'November', 'August', 'September', 'September', 'September', 'September', 'September', 'September', 'October', 'September', 'August', 'September', 'September', 'August', 'August', 'September', 'September', 'August', 'October', 'September', 'September', 'July', 'August', 'September', 'October', 'August', 'September', 'October', 'September', 'September', 'October']\n",
    "years = [1924, 1928, 1932, 1932, 1933, 1933, 1935, 1938, 1953, 1955, 1961, 1961, 1967, 1969, 1971, 1977, 1979, 1980, 1988, 1989, 1992, 1998, 2003, 2004, 2005, 2005, 2005, 2005, 2007, 2007, 2016, 2017, 2017, 2018]\n",
    "max_sustained_winds = [165, 160, 160, 175, 160, 160, 185, 160, 160, 175, 175, 160, 160, 175, 160, 175, 175, 190, 185, 160, 175, 180, 165, 165, 160, 175, 180, 185, 175, 175, 165, 180, 175, 160]\n",
    "areas_affected = [['Central America', 'Mexico', 'Cuba', 'Florida', 'The Bahamas'], ['Lesser Antilles', 'The Bahamas', 'United States East Coast', 'Atlantic Canada'], ['The Bahamas', 'Northeastern United States'], ['Lesser Antilles', 'Jamaica', 'Cayman Islands', 'Cuba', 'The Bahamas', 'Bermuda'], ['The Bahamas', 'Cuba', 'Florida', 'Texas', 'Tamaulipas'], ['Jamaica', 'Yucatn Peninsula'], ['The Bahamas', 'Florida', 'Georgia', 'The Carolinas', 'Virginia'], ['Southeastern United States', 'Northeastern United States', 'Southwestern Quebec'], ['Bermuda', 'New England', 'Atlantic Canada'], ['Lesser Antilles', 'Central America'], ['Texas', 'Louisiana', 'Midwestern United States'], ['Central America'], ['The Caribbean', 'Mexico', 'Texas'], ['Cuba', 'United States Gulf Coast'], ['The Caribbean', 'Central America', 'Mexico', 'United States Gulf Coast'], ['Mexico'], ['The Caribbean', 'United States East coast'], ['The Caribbean', 'Yucatn Peninsula', 'Mexico', 'South Texas'], ['Jamaica', 'Venezuela', 'Central America', 'Hispaniola', 'Mexico'], ['The Caribbean', 'United States East Coast'], ['The Bahamas', 'Florida', 'United States Gulf Coast'], ['Central America', 'Yucatn Peninsula', 'South Florida'], ['Greater Antilles', 'Bahamas', 'Eastern United States', 'Ontario'], ['The Caribbean', 'Venezuela', 'United States Gulf Coast'], ['Windward Islands', 'Jamaica', 'Mexico', 'Texas'], ['Bahamas', 'United States Gulf Coast'], ['Cuba', 'United States Gulf Coast'], ['Greater Antilles', 'Central America', 'Florida'], ['The Caribbean', 'Central America'], ['Nicaragua', 'Honduras'], ['Antilles', 'Venezuela', 'Colombia', 'United States East Coast', 'Atlantic Canada'], ['Cape Verde', 'The Caribbean', 'British Virgin Islands', 'U.S. Virgin Islands', 'Cuba', 'Florida'], ['Lesser Antilles', 'Virgin Islands', 'Puerto Rico', 'Dominican Republic', 'Turks and Caicos Islands'], ['Central America', 'United States Gulf Coast (especially Florida Panhandle)']]\n",
    "damages = ['Damages not recorded', '100M', 'Damages not recorded', '40M', '27.9M', '5M', 'Damages not recorded', '306M', '2M', '65.8M', '326M', '60.3M', '208M', '1.42B', '25.4M', 'Damages not recorded', '1.54B', '1.24B', '7.1B', '10B', '26.5B', '6.2B', '5.37B', '23.3B', '1.01B', '125B', '12B', '29.4B', '1.76B', '720M', '15.1B', '64.8B', '91.6B', '25.1B']"
   ]
  },
  {
   "cell_type": "markdown",
   "id": "ccc50492",
   "metadata": {},
   "source": [
    "### 1. Write a function that updates the damages list so that instead of M and B we have float numbers and the rest stays the same"
   ]
  },
  {
   "cell_type": "code",
   "execution_count": 6,
   "id": "be048ff5",
   "metadata": {},
   "outputs": [],
   "source": [
    "conversion = {'M' : 1000000,\n",
    "             'B': 1000000000}\n",
    "def convert_damages(data_input):\n",
    "    updated_damages= []\n",
    "    for i in data_input:\n",
    "        if i[-1] == 'M':\n",
    "            updated_damages.append(float(i[0:-1])*conversion['M'])\n",
    "        elif i[-1]=='B':\n",
    "            updated_damages.append(float(i[0:-1])*conversion['B'])\n",
    "        else:\n",
    "            updated_damages.append(i)\n",
    "    return updated_damages"
   ]
  },
  {
   "cell_type": "code",
   "execution_count": 7,
   "id": "b6bc0936",
   "metadata": {},
   "outputs": [],
   "source": [
    "updated_damages = convert_damages(damages)"
   ]
  },
  {
   "cell_type": "markdown",
   "id": "7c618cdc",
   "metadata": {},
   "source": [
    "### 2.Write a function that takes the data from above and creates a dictionary of dictionaries as follows: ### primary key:  name; ### nested dictionary keys are: Name, Month, Year, Max Sustained Winds, Areas Affected, Damage, Deaths"
   ]
  },
  {
   "cell_type": "code",
   "execution_count": 8,
   "id": "1c64930b",
   "metadata": {},
   "outputs": [],
   "source": [
    "def hurricanes_data_org(list_of_hurricanes):\n",
    "    hurricanes_dict = {}\n",
    "    for i in range(0, len(list_of_hurricanes)):\n",
    "        hurricanes_dict[list_of_hurricanes[i]] = {'Name' : list_of_hurricanes[i],\n",
    "                             'Month' : months[i],\n",
    "                             'Year'  : years[i],\n",
    "                             'Max Sustained Winds': max_sustained_winds[i],\n",
    "                             'Areas Affected':areas_affected[i],\n",
    "                             'Damage' : updated_damages[i],\n",
    "                             'Deaths' : deaths[i]}\n",
    "    return hurricanes_dict   "
   ]
  },
  {
   "cell_type": "code",
   "execution_count": 9,
   "id": "ebaebb18",
   "metadata": {},
   "outputs": [],
   "source": [
    "hurricanes_dict = hurricanes_data_org(names)"
   ]
  },
  {
   "cell_type": "markdown",
   "id": "ca8b104b",
   "metadata": {},
   "source": [
    "### 3. Write a function that takes a dictionary as an input and returns another dictionary where the main key is the year and the values are lists of dictionaries of the hurricanes that happened that year"
   ]
  },
  {
   "cell_type": "code",
   "execution_count": 10,
   "id": "c613059c",
   "metadata": {},
   "outputs": [],
   "source": [
    "def hurricanes_by_year(existing_dict):\n",
    "    #creating an empty dictionary\n",
    "    hurricanes_year = dict()\n",
    "    #creating a list with all the years and hurricanes by iterating through the items of the dictionary provided as argument \n",
    "    years = [(v1, k) for k,v in existing_dict.items() for k1, v1 in v.items() if k1=='Year']\n",
    "    #for every element in the list of years and hurricane names where index is between 0 and the number of elements\n",
    "    for i in range(0, len(years)):\n",
    "        #check if the year is already a key in the dictionary with dict.get('key_name')\n",
    "        #if it not dict.get('key name') == None\n",
    "            if hurricanes_year.get(years[i][0]) == None:\n",
    "                #create a key equal to the year and \n",
    "                #a value equal to the key(name of hurricane) of the dictionary passed as an argument\n",
    "                #! the value needs to be confined to a list so that additional items could be added (with .append()) if \n",
    "                    #multiple hurricanes would have taken place in the same year\n",
    "                hurricanes_year[years[i][0]] = [existing_dict[years[i][1]]]\n",
    "            else:\n",
    "                #if key already exists, append any potential hurricanes that have happened in the same year\n",
    "                hurricanes_year[years[i][0]].append(existing_dict[years[i][1]])\n",
    "    return hurricanes_year"
   ]
  },
  {
   "cell_type": "code",
   "execution_count": 11,
   "id": "eefad34e",
   "metadata": {},
   "outputs": [],
   "source": [
    "list_of_hurricanes_by_year = hurricanes_by_year(hurricanes_dict)"
   ]
  },
  {
   "cell_type": "markdown",
   "id": "b74063c5",
   "metadata": {},
   "source": [
    "### 4.Write a function that checks how often an area is listed as affected by a hurricane. Return results in a dictionary  where the keys are the affected areas and the values are the frequencies. The function takes a dictionary as an argument. "
   ]
  },
  {
   "cell_type": "code",
   "execution_count": 12,
   "id": "f52733aa",
   "metadata": {},
   "outputs": [],
   "source": [
    "def areas_affected_frq(my_dict):\n",
    "    #creating an empty dictionary\n",
    "    areas_affect_dict = {}\n",
    "    #creating a list of lists with all the areas affected by each hurricane by iterating through the dictionary items\n",
    "    areas_list = [v1 for k,v in my_dict.items() for k1, v1 in v.items() if k1 == 'Areas Affected']\n",
    "    #for each list of areas within the main list\n",
    "    for hurricane_affected_area in areas_list:\n",
    "        #for each area within the individual lists\n",
    "        for area in hurricane_affected_area:\n",
    "            #if the area name is not a key in the dictionary:\n",
    "            if areas_affect_dict.get(area) == None:\n",
    "                #create a dictionary key that has the name of the area and give it a value of 1\n",
    "                areas_affect_dict[area]= 1\n",
    "            else:\n",
    "                #if the key exists already, add one to the corresponding value\n",
    "                 areas_affect_dict[area]+=1\n",
    "    return areas_affect_dict"
   ]
  },
  {
   "cell_type": "code",
   "execution_count": 13,
   "id": "6986355e",
   "metadata": {},
   "outputs": [],
   "source": [
    "affected_areas_dict = areas_affected_frq(hurricanes_dict)"
   ]
  },
  {
   "cell_type": "code",
   "execution_count": 14,
   "id": "d1e2c2bd",
   "metadata": {},
   "outputs": [
    {
     "data": {
      "text/plain": [
       "{'Central America': 9,\n",
       " 'Mexico': 7,\n",
       " 'Cuba': 6,\n",
       " 'Florida': 6,\n",
       " 'The Bahamas': 7,\n",
       " 'Lesser Antilles': 4,\n",
       " 'United States East Coast': 3,\n",
       " 'Atlantic Canada': 3,\n",
       " 'Northeastern United States': 2,\n",
       " 'Jamaica': 4,\n",
       " 'Cayman Islands': 1,\n",
       " 'Bermuda': 2,\n",
       " 'Texas': 4,\n",
       " 'Tamaulipas': 1,\n",
       " 'Yucatn Peninsula': 3,\n",
       " 'Georgia': 1,\n",
       " 'The Carolinas': 1,\n",
       " 'Virginia': 1,\n",
       " 'Southeastern United States': 1,\n",
       " 'Southwestern Quebec': 1,\n",
       " 'New England': 1,\n",
       " 'Louisiana': 1,\n",
       " 'Midwestern United States': 1,\n",
       " 'The Caribbean': 8,\n",
       " 'United States Gulf Coast': 6,\n",
       " 'United States East coast': 1,\n",
       " 'South Texas': 1,\n",
       " 'Venezuela': 3,\n",
       " 'Hispaniola': 1,\n",
       " 'South Florida': 1,\n",
       " 'Greater Antilles': 2,\n",
       " 'Bahamas': 2,\n",
       " 'Eastern United States': 1,\n",
       " 'Ontario': 1,\n",
       " 'Windward Islands': 1,\n",
       " 'Nicaragua': 1,\n",
       " 'Honduras': 1,\n",
       " 'Antilles': 1,\n",
       " 'Colombia': 1,\n",
       " 'Cape Verde': 1,\n",
       " 'British Virgin Islands': 1,\n",
       " 'U.S. Virgin Islands': 1,\n",
       " 'Virgin Islands': 1,\n",
       " 'Puerto Rico': 1,\n",
       " 'Dominican Republic': 1,\n",
       " 'Turks and Caicos Islands': 1,\n",
       " 'United States Gulf Coast (especially Florida Panhandle)': 1}"
      ]
     },
     "execution_count": 14,
     "metadata": {},
     "output_type": "execute_result"
    }
   ],
   "source": [
    "affected_areas_dict"
   ]
  },
  {
   "cell_type": "markdown",
   "id": "1f009ea3",
   "metadata": {},
   "source": [
    "### 5. Write a function that finds the area affected by the most hurricanes and return name and how many times it was hit. The function takes a dictionary as an argument"
   ]
  },
  {
   "cell_type": "code",
   "execution_count": 63,
   "id": "f9a212de",
   "metadata": {},
   "outputs": [
    {
     "name": "stdout",
     "output_type": "stream",
     "text": [
      "CPU times: total: 0 ns\n",
      "Wall time: 0 ns\n"
     ]
    }
   ],
   "source": [
    "%%time\n",
    "def most_affected_area(my_dict):\n",
    "    max = 0\n",
    "    for k, v in my_dict.items():\n",
    "        if  v > max:\n",
    "            max = v\n",
    "    return [(k,v) for k,v in my_dict.items() if v==max]    \n",
    "#do solutions provided avoid iterating twice through the dict? yes (see below cell), however you have to manually check \n",
    "#the name of the first area of the dictionary\n",
    "#what is the difference between this approach and their approach in time? --> both zero"
   ]
  },
  {
   "cell_type": "code",
   "execution_count": 16,
   "id": "5c02e316",
   "metadata": {},
   "outputs": [
    {
     "data": {
      "text/plain": [
       "[('Central America', 9)]"
      ]
     },
     "execution_count": 16,
     "metadata": {},
     "output_type": "execute_result"
    }
   ],
   "source": [
    "most_affected_area(affected_areas_dict)"
   ]
  },
  {
   "cell_type": "code",
   "execution_count": 62,
   "id": "86b1e531",
   "metadata": {},
   "outputs": [
    {
     "name": "stdout",
     "output_type": "stream",
     "text": [
      "CPU times: total: 0 ns\n",
      "Wall time: 0 ns\n"
     ]
    }
   ],
   "source": [
    "%%time\n",
    "def most_affected_area(affected_areas_count):\n",
    "    max_area = 'Central America'\n",
    "    max_area_count = 0\n",
    "    for area in affected_areas_count:\n",
    "        if affected_areas_count[area] > max_area_count:\n",
    "            max_area = area\n",
    "            max_area_count = affected_areas_count[area]\n",
    "    return max_area, max_area_count"
   ]
  },
  {
   "cell_type": "code",
   "execution_count": 59,
   "id": "69d50b59",
   "metadata": {},
   "outputs": [
    {
     "data": {
      "text/plain": [
       "('Central America', 9)"
      ]
     },
     "execution_count": 59,
     "metadata": {},
     "output_type": "execute_result"
    }
   ],
   "source": [
    "most_affected_area(affected_areas_dict)"
   ]
  },
  {
   "cell_type": "markdown",
   "id": "4fe1d9c1",
   "metadata": {},
   "source": [
    "### 6.Write a function that finds the hurricane that caused the greatest number of deaths and how many deaths it has caused. The function takes a dictionary as an argument. "
   ]
  },
  {
   "cell_type": "code",
   "execution_count": 17,
   "id": "27b84296",
   "metadata": {},
   "outputs": [],
   "source": [
    "def deadliest_hurricane(my_dict):\n",
    "    max = 0\n",
    "    for k, v in my_dict.items():\n",
    "        for k1, v1 in v.items():\n",
    "            if k1 == 'Deaths' and v1 > max:\n",
    "                max = v1\n",
    "    return [(k, v1) for k,v in my_dict.items() for k1,v1 in v.items() if v1 == max]"
   ]
  },
  {
   "cell_type": "code",
   "execution_count": 18,
   "id": "68fa32e9",
   "metadata": {},
   "outputs": [
    {
     "data": {
      "text/plain": [
       "[('Mitch', 19325)]"
      ]
     },
     "execution_count": 18,
     "metadata": {},
     "output_type": "execute_result"
    }
   ],
   "source": [
    "deadliest_hurricane(hurricanes_dict)"
   ]
  },
  {
   "cell_type": "markdown",
   "id": "c7e90023",
   "metadata": {},
   "source": [
    "### 7.Write a function that rates hurricanes on a mortality scale as per the dictionary below.  Store the data in a new dictionary where the keys are the mortality ratings and the values are lists containing a dictionary of each hurricane that falls into that mortality rating, The function takes a dictionary as argument. "
   ]
  },
  {
   "cell_type": "code",
   "execution_count": 19,
   "id": "9caf314a",
   "metadata": {},
   "outputs": [],
   "source": [
    "#given dictionary: \n",
    "mortality_scale = {0: 0,\n",
    "                   1: 100,\n",
    "                   2: 500,\n",
    "                   3: 1000,\n",
    "                   4: 10000}"
   ]
  },
  {
   "cell_type": "code",
   "execution_count": 22,
   "id": "02b152bb",
   "metadata": {},
   "outputs": [],
   "source": [
    "def mortality_rating(my_dict):\n",
    "    mortality_rtg = {0 : [],\n",
    "                     1 : [], \n",
    "                     2 : [],\n",
    "                     3 : [], \n",
    "                     4 : [], \n",
    "                     5 : []}\n",
    "    for k,v in my_dict.items():\n",
    "        for k1, v1 in v.items():\n",
    "            if k1 == 'Deaths':\n",
    "                if v1 == 0: \n",
    "                    mortality_rtg[0].append(k)\n",
    "                elif v1 > 0 and v1 < 100:\n",
    "                    mortality_rtg[1].append(k)\n",
    "                elif v1 >= 100 and v1 < 500:\n",
    "                    mortality_rtg[2].append(k)\n",
    "                elif v1 >= 500 and v1 < 1000:\n",
    "                    mortality_rtg[3].append(k)\n",
    "                elif v1 >= 1000 and v1 < 10000:\n",
    "                    mortality_rtg[4].append(k)\n",
    "                else: \n",
    "                    mortality_rtg[5].append(k)\n",
    "    return mortality_rtg"
   ]
  },
  {
   "cell_type": "code",
   "execution_count": 24,
   "id": "9d01962c",
   "metadata": {},
   "outputs": [],
   "source": [
    "mortality_rtg_dict = mortality_rating(hurricanes_dict)"
   ]
  },
  {
   "cell_type": "markdown",
   "id": "cd50c352",
   "metadata": {},
   "source": [
    "### 8. Write a function that takes a dictionary as an argument and identifies the hurricane that has caused the greatest damage and how costly this was"
   ]
  },
  {
   "cell_type": "code",
   "execution_count": 32,
   "id": "f9bd98a9",
   "metadata": {},
   "outputs": [],
   "source": [
    "def greatest_damage_hurricane(my_dict):\n",
    "    greatest_damage = 0\n",
    "    for k,v in my_dict.items():\n",
    "        for k1, v1 in v.items():\n",
    "            if k1 == 'Damage' and v1!= 'Damages not recorded':\n",
    "                if float(v1) > greatest_damage:\n",
    "                    greatest_damage = v1\n",
    "    return [(k, v1) for k,v in my_dict.items() for k1, v1 in v.items() if v1 == greatest_damage]"
   ]
  },
  {
   "cell_type": "code",
   "execution_count": 33,
   "id": "563d25e1",
   "metadata": {},
   "outputs": [
    {
     "data": {
      "text/plain": [
       "[('Katrina', 125000000000.0)]"
      ]
     },
     "execution_count": 33,
     "metadata": {},
     "output_type": "execute_result"
    }
   ],
   "source": [
    "greatest_damage_hurricane(hurricanes_dict)"
   ]
  },
  {
   "cell_type": "markdown",
   "id": "d0021e15",
   "metadata": {},
   "source": [
    "### 9.Write a function that rates hurricanes on a damafe scale as per the below guideline dictionary. The reasult should be a dictionary where the key is the damages rating while the value is a list with all the hurricanes that falls into the category. The function takes a dictionary as an argument. "
   ]
  },
  {
   "cell_type": "code",
   "execution_count": 34,
   "id": "093258f6",
   "metadata": {},
   "outputs": [],
   "source": [
    "damage_scale = {0 : 0, \n",
    "               1 : 100000000, \n",
    "               2 : 1000000000, \n",
    "               3 : 10000000000, \n",
    "               4 : 50000000000}"
   ]
  },
  {
   "cell_type": "code",
   "execution_count": 57,
   "id": "ba1a03f7",
   "metadata": {},
   "outputs": [],
   "source": [
    "def damages_rating(my_dict):\n",
    "    damage_rtg = {0 : [],\n",
    "                  1 : [], \n",
    "                  2 : [], \n",
    "                  3 : [], \n",
    "                  4 : [],\n",
    "                  5 : []}\n",
    "    for k, v in my_dict.items():\n",
    "        for k1, v1 in v.items():\n",
    "            if k1 == 'Damage' and v1!='Damages not recorded' : \n",
    "                if float(v1) == 0:\n",
    "                    damage_rtg[0].append(k)\n",
    "                elif float(v1)>0 and float(v1) < 100000000:\n",
    "                    damage_rtg[1].append(k)\n",
    "                elif float(v1)>= 100000000 and float(v1) < 1000000000:\n",
    "                    damage_rtg[2].append(k)\n",
    "                elif float(v1)>= 1000000000 and float(v1) < 10000000000:\n",
    "                    damage_rtg[3].append(k)\n",
    "                elif float(v1)>= 10000000000 and float(v1) < 500000000000:\n",
    "                    damage_rtg[4].append(k)\n",
    "                else: \n",
    "                    damage_rtg[5].append(k)\n",
    "    return damage_rtg\n",
    "#this is excluding the hurricanes where the damages have not been recorded"
   ]
  },
  {
   "cell_type": "code",
   "execution_count": 55,
   "id": "c835e8c3",
   "metadata": {},
   "outputs": [
    {
     "data": {
      "text/plain": [
       "{0: [],\n",
       " 1: ['Cuba II',\n",
       "  'CubaBrownsville',\n",
       "  'Tampico',\n",
       "  'Carol',\n",
       "  'Janet',\n",
       "  'Hattie',\n",
       "  'Edith'],\n",
       " 2: ['San Felipe II Okeechobee', 'New England', 'Carla', 'Beulah', 'Felix'],\n",
       " 3: ['Camille',\n",
       "  'David',\n",
       "  'Allen',\n",
       "  'Gilbert',\n",
       "  'Mitch',\n",
       "  'Isabel',\n",
       "  'Emily',\n",
       "  'Dean'],\n",
       " 4: ['Hugo',\n",
       "  'Andrew',\n",
       "  'Ivan',\n",
       "  'Katrina',\n",
       "  'Rita',\n",
       "  'Wilma',\n",
       "  'Matthew',\n",
       "  'Irma',\n",
       "  'Maria',\n",
       "  'Michael'],\n",
       " 5: []}"
      ]
     },
     "execution_count": 55,
     "metadata": {},
     "output_type": "execute_result"
    }
   ],
   "source": [
    "damages_rating(hurricanes_dict)"
   ]
  },
  {
   "cell_type": "code",
   "execution_count": null,
   "id": "2462d605",
   "metadata": {},
   "outputs": [],
   "source": []
  },
  {
   "cell_type": "code",
   "execution_count": null,
   "id": "4c4532b4",
   "metadata": {},
   "outputs": [],
   "source": []
  }
 ],
 "metadata": {
  "kernelspec": {
   "display_name": "Python 3 (ipykernel)",
   "language": "python",
   "name": "python3"
  },
  "language_info": {
   "codemirror_mode": {
    "name": "ipython",
    "version": 3
   },
   "file_extension": ".py",
   "mimetype": "text/x-python",
   "name": "python",
   "nbconvert_exporter": "python",
   "pygments_lexer": "ipython3",
   "version": "3.9.12"
  }
 },
 "nbformat": 4,
 "nbformat_minor": 5
}
